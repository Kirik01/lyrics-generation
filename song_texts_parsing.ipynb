{
 "nbformat": 4,
 "nbformat_minor": 0,
 "metadata": {
  "colab": {
   "provenance": []
  },
  "kernelspec": {
   "name": "python3",
   "display_name": "Python 3"
  },
  "language_info": {
   "name": "python"
  }
 },
 "cells": [
  {
   "cell_type": "code",
   "execution_count": 1,
   "metadata": {
    "id": "lsIrDz0Q7KUZ"
   },
   "outputs": [],
   "source": [
    "import pandas as pd\n",
    "import requests\n",
    "from bs4 import BeautifulSoup\n",
    "import time\n",
    "import sqlite3\n",
    "import re"
   ]
  },
  {
   "cell_type": "markdown",
   "source": [
    "**Парсинг сайта и настройка базы данных**"
   ],
   "metadata": {
    "id": "T6mVC3ANw-vi"
   }
  },
  {
   "cell_type": "markdown",
   "source": [
    "**1. Парсинг**"
   ],
   "metadata": {
    "id": "W4gLsmpsxLUU"
   }
  },
  {
   "cell_type": "code",
   "source": [
    "urls = [\"https://text-you.ru/songs/григорий+лепс.html\", \"https://text-you.ru/songs/григорий+лепс-2.html\", \"https://text-you.ru/songs/григорий+лепс-3.html\"] # ссылки на исполнителей\n",
    "\n",
    "songs_lists = [] # создадим пустой список для добавления в них ссылок с текстами песен\n",
    "\n",
    "for url in urls: # вытащим из html адреса с текстами и добавим их в список\n",
    "    songs_list = requests.get(url)\n",
    "    songs_soup = BeautifulSoup(songs_list.content, \"html.parser\")\n",
    "    for a in songs_soup.find_all('a'):\n",
    "        if str(a).find('rus_text_pesni') != -1 and str(a).find('leps') != -1:\n",
    "            song_url = 'https://text-you.ru/' + a['href']\n",
    "            songs_lists.append(song_url)\n",
    "\n",
    "songs_lists = list(set(songs_lists))  # убираем дубликаты\n",
    "songs_lists"
   ],
   "metadata": {
    "colab": {
     "base_uri": "https://localhost:8080/"
    },
    "id": "n8NebqTRBUDO",
    "outputId": "3880033b-9631-46d7-d246-1d06a8df7604"
   },
   "execution_count": 3,
   "outputs": [
    {
     "output_type": "execute_result",
     "data": {
      "text/plain": [
       "['https://text-you.ru//rus_text_pesni/67188-grigorijj-leps-ne-tronte-dushu-grjaznymi-rukami.html',\n",
       " 'https://text-you.ru//rus_text_pesni/4565-grigorijj-leps-kupola.html',\n",
       " 'https://text-you.ru//rus_text_pesni/4570-grigorijj-leps-izmeny-i-viktorija-ilinskaja.html',\n",
       " 'https://text-you.ru//rus_text_pesni/4559-grigorijj-leps-vjuga.html',\n",
       " 'https://text-you.ru//rus_text_pesni/4557-grigorijj-leps-natali.html',\n",
       " 'https://text-you.ru//rus_text_pesni/10160-grigorijj-leps-zamerzaet-solnce.html',\n",
       " 'https://text-you.ru//rus_text_pesni/11733-grigorijj-leps-zima.html',\n",
       " 'https://text-you.ru//rus_text_pesni/65632-grigorijj-leps-dom-khrustalnyjj.html',\n",
       " 'https://text-you.ru//rus_text_pesni/70691-grigorijj-leps-ona-menja-baluet.html',\n",
       " 'https://text-you.ru//rus_text_pesni/4563-grigorijj-leps-berega.html',\n",
       " 'https://text-you.ru//rus_text_pesni/4558-grigorijj-leps-ja-tebja-ne-ljublju.html',\n",
       " 'https://text-you.ru//rus_text_pesni/4571-grigorijj-leps-ty-opozdala.html',\n",
       " 'https://text-you.ru//rus_text_pesni/44133-grigorijj-leps-ja-tebe-verju-ost-sofija.html',\n",
       " 'https://text-you.ru//rus_text_pesni/22663-grigorijj-leps-ja-vernu-tebja.html',\n",
       " 'https://text-you.ru//rus_text_pesni/4556-grigorijj-leps-rasskazhi.html',\n",
       " 'https://text-you.ru//rus_text_pesni/38642-grigorijj-leps-ja-podnimaju-ruki.html',\n",
       " 'https://text-you.ru//rus_text_pesni/4561-grigorijj-leps-parus.html',\n",
       " 'https://text-you.ru//rus_text_pesni/63822-grigorijj-leps-mojj-pervyjj-srok.html',\n",
       " 'https://text-you.ru//rus_text_pesni/46827-grigorijj-leps-vremja.html',\n",
       " 'https://text-you.ru//rus_text_pesni/4569-grigorijj-leps-rjumka-vodki-na-stole.html',\n",
       " 'https://text-you.ru//rus_text_pesni/45757-grigorijj-leps-chto-zh-ty-natvorila.html',\n",
       " 'https://text-you.ru//rus_text_pesni/76150-grigorijj-leps-tribunal.html',\n",
       " 'https://text-you.ru//rus_text_pesni/21320-grigorijj-leps-london.html',\n",
       " 'https://text-you.ru//rus_text_pesni/40960-grigorijj-leps-kriminal.html',\n",
       " 'https://text-you.ru//rus_text_pesni/21665-grigorijj-leps-ja-schastlivyjj.html',\n",
       " 'https://text-you.ru//rus_text_pesni/4566-grigorijj-leps-ne-spitsja.html',\n",
       " 'https://text-you.ru//rus_text_pesni/46767-grigorijj-leps-amin.html',\n",
       " 'https://text-you.ru//rus_text_pesni/46766-grigorijj-leps-odin-fig.html',\n",
       " 'https://text-you.ru//rus_text_pesni/65636-grigorijj-leps-koni-priveredlivye.html',\n",
       " 'https://text-you.ru//rus_text_pesni/65634-grigorijj-leps-rajjskie-jabloki.html',\n",
       " 'https://text-you.ru//rus_text_pesni/27924-grigorijj-leps-gospodi-dajj-mne-sil.html',\n",
       " 'https://text-you.ru//rus_text_pesni/14487-grigorijj-leps-spasibo-rebjata.html',\n",
       " 'https://text-you.ru//rus_text_pesni/76369-grigorijj-leps-rodina-mat.html',\n",
       " 'https://text-you.ru//rus_text_pesni/17682-grigorijj-leps-ja-stanu-vodopadom.html',\n",
       " 'https://text-you.ru//rus_text_pesni/25286-grigorijj-leps-moskovskaja-pesnja.html',\n",
       " 'https://text-you.ru//rus_text_pesni/4564-grigorijj-leps-krysa-revnost.html',\n",
       " 'https://text-you.ru//rus_text_pesni/4560-grigorijj-leps-labirint.html',\n",
       " 'https://text-you.ru//rus_text_pesni/23848-grigorijj-leps-staryjj-chjort.html',\n",
       " 'https://text-you.ru//rus_text_pesni/10162-grigorijj-leps-ona.html',\n",
       " 'https://text-you.ru//rus_text_pesni/4568-grigorijj-leps-ona-byla-chista-kak-sneg-zimojj.html',\n",
       " 'https://text-you.ru//rus_text_pesni/46779-grigorijj-leps-ty-prosto-zhzhjosh-posvjashhenie.html',\n",
       " 'https://text-you.ru//rus_text_pesni/55326-grigorijj-leps-life-is-good.html',\n",
       " 'https://text-you.ru//rus_text_pesni/4562-grigorijj-leps-ukhodi-krasivo.html',\n",
       " 'https://text-you.ru//rus_text_pesni/21319-grigorijj-leps-kapitan-arktika.html',\n",
       " 'https://text-you.ru//rus_text_pesni/64878-grigorijj-leps-samyjj-luchshijj-den.html',\n",
       " 'https://text-you.ru//rus_text_pesni/46768-grigorijj-leps-razbitaja-ljubov.html',\n",
       " 'https://text-you.ru//rus_text_pesni/44645-grigorijj-leps-snega.html',\n",
       " 'https://text-you.ru//rus_text_pesni/25163-grigorijj-leps-mne-snitsja-vodopad.html',\n",
       " 'https://text-you.ru//rus_text_pesni/11557-grigorijj-leps-nastojashhaja-zhenshhina.html',\n",
       " 'https://text-you.ru//rus_text_pesni/10167-grigorijj-leps-rokovaja-ljubov.html',\n",
       " 'https://text-you.ru//rus_text_pesni/10161-grigorijj-leps-chernyjj-dozhd.html',\n",
       " 'https://text-you.ru//rus_text_pesni/4567-grigorijj-leps-nostalgija.html',\n",
       " 'https://text-you.ru//rus_text_pesni/65638-grigorijj-leps-moja-cyganskaja.html',\n",
       " 'https://text-you.ru//rus_text_pesni/46765-grigorijj-leps-bez-tebja.html',\n",
       " 'https://text-you.ru//rus_text_pesni/10159-grigorijj-leps-bozhe-kak-dolgo.html',\n",
       " 'https://text-you.ru//rus_text_pesni/4555-grigorijj-leps-ne-zhdi-menja-i-slava.html']"
      ]
     },
     "metadata": {},
     "execution_count": 3
    }
   ]
  },
  {
   "cell_type": "code",
   "source": [
    "# функция очистки текста от лишних символов\n",
    "def replace_all(text, to_replace):\n",
    "    for i in to_replace:\n",
    "        text = text.replace(i, ' ')\n",
    "    return text"
   ],
   "metadata": {
    "id": "7SoAxuOhxlnx"
   },
   "execution_count": 4,
   "outputs": []
  },
  {
   "cell_type": "code",
   "source": [
    "parsed_songs = {}\n",
    "n = 0 # переменная для подсчёта количества песен\n",
    "\n",
    "for song_name in songs_lists:\n",
    "  song_url = requests.get(song_name)\n",
    "  song_soup = BeautifulSoup(song_url.content, \"html.parser\")\n",
    "  song_text = str(song_soup.find_all('pre')[0]) # находим нужную часть с текстом\n",
    "  song_text = replace_all(song_text, ['<pre>', '</pre>', '<br/>']) # очищаем тексты от лишних символов\n",
    "  song_text = song_text.rstrip().lstrip()  # убираем пробелы в начале и в конце\n",
    "  parsed_songs[song_name] = song_text\n",
    "  n += 1\n",
    "  print(\"Parsed\", n, \"/\", len(songs_lists))\n",
    "  time.sleep(1)"
   ],
   "metadata": {
    "colab": {
     "base_uri": "https://localhost:8080/"
    },
    "id": "VRjjhpVjLNRx",
    "outputId": "b1e67fc6-e2cc-445c-e5c2-640ad302fa41"
   },
   "execution_count": 5,
   "outputs": [
    {
     "output_type": "stream",
     "name": "stdout",
     "text": [
      "Parsed 1 / 56\n",
      "Parsed 2 / 56\n",
      "Parsed 3 / 56\n",
      "Parsed 4 / 56\n",
      "Parsed 5 / 56\n",
      "Parsed 6 / 56\n",
      "Parsed 7 / 56\n",
      "Parsed 8 / 56\n",
      "Parsed 9 / 56\n",
      "Parsed 10 / 56\n",
      "Parsed 11 / 56\n",
      "Parsed 12 / 56\n",
      "Parsed 13 / 56\n",
      "Parsed 14 / 56\n",
      "Parsed 15 / 56\n",
      "Parsed 16 / 56\n",
      "Parsed 17 / 56\n",
      "Parsed 18 / 56\n",
      "Parsed 19 / 56\n",
      "Parsed 20 / 56\n",
      "Parsed 21 / 56\n",
      "Parsed 22 / 56\n",
      "Parsed 23 / 56\n",
      "Parsed 24 / 56\n",
      "Parsed 25 / 56\n",
      "Parsed 26 / 56\n",
      "Parsed 27 / 56\n",
      "Parsed 28 / 56\n",
      "Parsed 29 / 56\n",
      "Parsed 30 / 56\n",
      "Parsed 31 / 56\n",
      "Parsed 32 / 56\n",
      "Parsed 33 / 56\n",
      "Parsed 34 / 56\n",
      "Parsed 35 / 56\n",
      "Parsed 36 / 56\n",
      "Parsed 37 / 56\n",
      "Parsed 38 / 56\n",
      "Parsed 39 / 56\n",
      "Parsed 40 / 56\n",
      "Parsed 41 / 56\n",
      "Parsed 42 / 56\n",
      "Parsed 43 / 56\n",
      "Parsed 44 / 56\n",
      "Parsed 45 / 56\n",
      "Parsed 46 / 56\n",
      "Parsed 47 / 56\n",
      "Parsed 48 / 56\n",
      "Parsed 49 / 56\n",
      "Parsed 50 / 56\n",
      "Parsed 51 / 56\n",
      "Parsed 52 / 56\n",
      "Parsed 53 / 56\n",
      "Parsed 54 / 56\n",
      "Parsed 55 / 56\n",
      "Parsed 56 / 56\n"
     ]
    }
   ]
  },
  {
   "cell_type": "markdown",
   "source": [
    "**2. Работа с БД**"
   ],
   "metadata": {
    "id": "Nsde1j2fyg4l"
   }
  },
  {
   "cell_type": "code",
   "source": [
    "con = sqlite3.connect('songs.db') # создаем локальную базу данных\n",
    "\n",
    "cur = con.cursor()\n",
    "cur.execute(\"CREATE TABLE text_songs(author, text, url)\") # создаем таблицу\n",
    "\n",
    "\n",
    "for k, v in parsed_songs.items():  # перебираем ключи и значения и записываем их в таблицу\n",
    "  sql_insert = \"\"\"\n",
    "  INSERT INTO text_songs (author, text, url)\n",
    "  VALUES ('{}', '{}', '{}');\n",
    "  \"\"\".format('Григорий Лепс', v, k)\n",
    "\n",
    "  res = cur.execute(sql_insert)\n",
    "  con.commit()\n",
    "\n",
    "\n",
    "res = cur.execute(\"Select * From text_songs\")\n",
    "result = res.fetchall()\n",
    "\n",
    "print(len(result), result[0])"
   ],
   "metadata": {
    "colab": {
     "base_uri": "https://localhost:8080/"
    },
    "id": "vSKZHswVOuYK",
    "outputId": "f5c369fe-c6d7-4fe3-b859-286635163c2e"
   },
   "execution_count": 10,
   "outputs": [
    {
     "output_type": "stream",
     "name": "stdout",
     "text": [
      "56 ('Григорий Лепс', '[Куплет 1]: Пред тем, как я предстану идиотом, Я попрошу пред образом: \"Подайте...\" При нём не надо думать об исходе, Он любит нас — добавит день к расплате.  Из ничего в ничто бросая семя, Живу себе, себя воображая, Моя надежда сильно поседела И с каждым годом просто никакая.  [Припев]: Не троньте душу грязными руками! Не надо врать, что нет пути другого. Я на задворках мёртвыми губами… Искал поддержки я у чужих пророков.  [Куплет 2]: Сквозь время память обладает силой. Забыв про боль обид и гиблые трясины, Стучится в сердце птицей синекрылой, Твердит, что верность и любовь едины.   [Припев]: Не троньте душу грязными руками! Не надо врать, что нет пути другого. Я на задворках мёртвыми губами… Искал поддержки я у чужих пророков.  [Припев]: Не троньте душу грязными руками! Не надо врать, что нет пути другого. Я на задворках мёртвыми губами… Искал поддержки я у чужих пророков.  Я на задворках мёртвыми губами… Искал поддержки я у чужих пророков. У чужих пророков. У чужих пророков.', 'https://text-you.ru//rus_text_pesni/67188-grigorijj-leps-ne-tronte-dushu-grjaznymi-rukami.html')\n"
     ]
    }
   ]
  },
  {
   "cell_type": "code",
   "source": [
    "text_prep_all = []\n",
    "to_replace = ['григорий', 'лепс', '!', '?', '.', ',', ':', '-', '  ', '[', ']', 'ла', '))', '\"', '(', ')', '—', '  ', 'не'] # список с символами для удаления из текстов\n",
    "text_songs = [i[1] for i in result]\n",
    "\n",
    "\n",
    "for i in text_songs:\n",
    "    text_prep = re.findall('[А-Я][^А-Я]*', i) # делим текст на строки\n",
    "    text_prep = [a.lower() for a in text_prep] # убираем заглавные буквы\n",
    "    text_prep = [replace_all(a, to_replace) for a in text_prep] # очищаем тексты от лишних символов\n",
    "    text_prep = [a.rstrip().rstrip() for a in text_prep] # удаляем лишние пробелы\n",
    "    text_prep = [a.lstrip() for a in text_prep]\n",
    "    clean_text = []\n",
    "    for idx, val in enumerate(text_prep):\n",
    "        if text_prep[idx] in [' ', '']: # проверяем пустая строка или нет\n",
    "            pass\n",
    "        else:\n",
    "            clean_text.append(val) # если строка не пустая, то добавляем в clean_text\n",
    "            \n",
    "    text_prep = []\n",
    "    for val in clean_text: # убираем короткие фразы, т.к. модель плохо обучается на коротких фразах\n",
    "        if len(val) <= 10:\n",
    "            pass\n",
    "        else:\n",
    "            text_prep.append(val)\n",
    "    \n",
    "    text_prep_unique = list(set(text_prep))\n",
    "    text_prep_str = '\\n'.join(text_prep_unique) # добавим /n, т.к. модель ожидает каждую фразу с новой строчки\n",
    "    text_prep_all.append(text_prep_str)\n",
    "    \n",
    "print(text_prep_all[0])  "
   ],
   "metadata": {
    "id": "z_bgrXcEkCqh",
    "colab": {
     "base_uri": "https://localhost:8080/"
    },
    "outputId": "eb81b29a-4900-4d6e-f3fe-e04380b20606"
   },
   "execution_count": 13,
   "outputs": [
    {
     "output_type": "stream",
     "name": "stdout",
     "text": [
      "забыв про боль обид и гиблые трясины\n",
      "он любит нас  добавит день к расп те\n",
      "при нём   надо думать об исходе\n",
      "живу себе себя воображая\n",
      "моя надежда сильно поседе\n",
      "и с каждым годом просто никакая\n",
      "я на задворках мёртвыми губами…\n",
      "стучится в сердце птицей си крылой\n",
      "пред тем как я предстану идиотом\n",
      "из ничего в ничто бросая семя\n",
      "твердит что верность и любовь едины\n",
      "троньте душу грязными руками\n",
      "сквозь время память об дает силой\n",
      "я попрошу пред образом\n",
      "надо врать что  т пути другого\n",
      "искал поддержки я у чужих пророков\n",
      "у чужих пророков\n"
     ]
    }
   ]
  },
  {
   "cell_type": "code",
   "source": [
    "# создадим датафрейм и сохраним в csv\n",
    "df_prepped = pd.DataFrame()\n",
    "\n",
    "\n",
    "df_prepped['text'] = text_prep_all * 10\n",
    "df_prepped['artist'] = 'Григорий Лепс'\n",
    "df_prepped = df_prepped[['artist', 'text']]\n",
    "df_prepped.to_csv('git_new/lyrics-generator/leps_text.csv', index=False)\n",
    "\n",
    "\n",
    "print(df_prepped.shape)\n",
    "df_prepped.head()"
   ],
   "metadata": {
    "colab": {
     "base_uri": "https://localhost:8080/",
     "height": 225
    },
    "id": "7NHN_Tk6kDF_",
    "outputId": "0b0f8880-cbf1-434d-a2b4-934b37429f55"
   },
   "execution_count": null,
   "outputs": [
    {
     "output_type": "stream",
     "name": "stdout",
     "text": [
      "(560, 2)\n"
     ]
    },
    {
     "output_type": "execute_result",
     "data": {
      "text/plain": [
       "          artist                                               text\n",
       "0  Григорий Лепс  времени в разбитой чашке больше  т\\nно любовь ...\n",
       "1  Григорий Лепс  я буду жить тобою\\nкто же я без тебя видно уже...\n",
       "2  Григорий Лепс  да в этот раз я потерпел фиаско\\nи маскарад за...\n",
       "3  Григорий Лепс  но когда весь мир надоест то есть куда бежать\\...\n",
       "4  Григорий Лепс  нарисуй луну оставь её\\nсметает лив м мои след..."
      ],
      "text/html": [
       "\n",
       "  <div id=\"df-7b1afb86-89dd-4e44-9a8b-f44106be7cb4\">\n",
       "    <div class=\"colab-df-container\">\n",
       "      <div>\n",
       "<style scoped>\n",
       "    .dataframe tbody tr th:only-of-type {\n",
       "        vertical-align: middle;\n",
       "    }\n",
       "\n",
       "    .dataframe tbody tr th {\n",
       "        vertical-align: top;\n",
       "    }\n",
       "\n",
       "    .dataframe thead th {\n",
       "        text-align: right;\n",
       "    }\n",
       "</style>\n",
       "<table border=\"1\" class=\"dataframe\">\n",
       "  <thead>\n",
       "    <tr style=\"text-align: right;\">\n",
       "      <th></th>\n",
       "      <th>artist</th>\n",
       "      <th>text</th>\n",
       "    </tr>\n",
       "  </thead>\n",
       "  <tbody>\n",
       "    <tr>\n",
       "      <th>0</th>\n",
       "      <td>Григорий Лепс</td>\n",
       "      <td>времени в разбитой чашке больше  т\\nно любовь ...</td>\n",
       "    </tr>\n",
       "    <tr>\n",
       "      <th>1</th>\n",
       "      <td>Григорий Лепс</td>\n",
       "      <td>я буду жить тобою\\nкто же я без тебя видно уже...</td>\n",
       "    </tr>\n",
       "    <tr>\n",
       "      <th>2</th>\n",
       "      <td>Григорий Лепс</td>\n",
       "      <td>да в этот раз я потерпел фиаско\\nи маскарад за...</td>\n",
       "    </tr>\n",
       "    <tr>\n",
       "      <th>3</th>\n",
       "      <td>Григорий Лепс</td>\n",
       "      <td>но когда весь мир надоест то есть куда бежать\\...</td>\n",
       "    </tr>\n",
       "    <tr>\n",
       "      <th>4</th>\n",
       "      <td>Григорий Лепс</td>\n",
       "      <td>нарисуй луну оставь её\\nсметает лив м мои след...</td>\n",
       "    </tr>\n",
       "  </tbody>\n",
       "</table>\n",
       "</div>\n",
       "      <button class=\"colab-df-convert\" onclick=\"convertToInteractive('df-7b1afb86-89dd-4e44-9a8b-f44106be7cb4')\"\n",
       "              title=\"Convert this dataframe to an interactive table.\"\n",
       "              style=\"display:none;\">\n",
       "        \n",
       "  <svg xmlns=\"http://www.w3.org/2000/svg\" height=\"24px\"viewBox=\"0 0 24 24\"\n",
       "       width=\"24px\">\n",
       "    <path d=\"M0 0h24v24H0V0z\" fill=\"none\"/>\n",
       "    <path d=\"M18.56 5.44l.94 2.06.94-2.06 2.06-.94-2.06-.94-.94-2.06-.94 2.06-2.06.94zm-11 1L8.5 8.5l.94-2.06 2.06-.94-2.06-.94L8.5 2.5l-.94 2.06-2.06.94zm10 10l.94 2.06.94-2.06 2.06-.94-2.06-.94-.94-2.06-.94 2.06-2.06.94z\"/><path d=\"M17.41 7.96l-1.37-1.37c-.4-.4-.92-.59-1.43-.59-.52 0-1.04.2-1.43.59L10.3 9.45l-7.72 7.72c-.78.78-.78 2.05 0 2.83L4 21.41c.39.39.9.59 1.41.59.51 0 1.02-.2 1.41-.59l7.78-7.78 2.81-2.81c.8-.78.8-2.07 0-2.86zM5.41 20L4 18.59l7.72-7.72 1.47 1.35L5.41 20z\"/>\n",
       "  </svg>\n",
       "      </button>\n",
       "      \n",
       "  <style>\n",
       "    .colab-df-container {\n",
       "      display:flex;\n",
       "      flex-wrap:wrap;\n",
       "      gap: 12px;\n",
       "    }\n",
       "\n",
       "    .colab-df-convert {\n",
       "      background-color: #E8F0FE;\n",
       "      border: none;\n",
       "      border-radius: 50%;\n",
       "      cursor: pointer;\n",
       "      display: none;\n",
       "      fill: #1967D2;\n",
       "      height: 32px;\n",
       "      padding: 0 0 0 0;\n",
       "      width: 32px;\n",
       "    }\n",
       "\n",
       "    .colab-df-convert:hover {\n",
       "      background-color: #E2EBFA;\n",
       "      box-shadow: 0px 1px 2px rgba(60, 64, 67, 0.3), 0px 1px 3px 1px rgba(60, 64, 67, 0.15);\n",
       "      fill: #174EA6;\n",
       "    }\n",
       "\n",
       "    [theme=dark] .colab-df-convert {\n",
       "      background-color: #3B4455;\n",
       "      fill: #D2E3FC;\n",
       "    }\n",
       "\n",
       "    [theme=dark] .colab-df-convert:hover {\n",
       "      background-color: #434B5C;\n",
       "      box-shadow: 0px 1px 3px 1px rgba(0, 0, 0, 0.15);\n",
       "      filter: drop-shadow(0px 1px 2px rgba(0, 0, 0, 0.3));\n",
       "      fill: #FFFFFF;\n",
       "    }\n",
       "  </style>\n",
       "\n",
       "      <script>\n",
       "        const buttonEl =\n",
       "          document.querySelector('#df-7b1afb86-89dd-4e44-9a8b-f44106be7cb4 button.colab-df-convert');\n",
       "        buttonEl.style.display =\n",
       "          google.colab.kernel.accessAllowed ? 'block' : 'none';\n",
       "\n",
       "        async function convertToInteractive(key) {\n",
       "          const element = document.querySelector('#df-7b1afb86-89dd-4e44-9a8b-f44106be7cb4');\n",
       "          const dataTable =\n",
       "            await google.colab.kernel.invokeFunction('convertToInteractive',\n",
       "                                                     [key], {});\n",
       "          if (!dataTable) return;\n",
       "\n",
       "          const docLinkHtml = 'Like what you see? Visit the ' +\n",
       "            '<a target=\"_blank\" href=https://colab.research.google.com/notebooks/data_table.ipynb>data table notebook</a>'\n",
       "            + ' to learn more about interactive tables.';\n",
       "          element.innerHTML = '';\n",
       "          dataTable['output_type'] = 'display_data';\n",
       "          await google.colab.output.renderOutput(dataTable, element);\n",
       "          const docLink = document.createElement('div');\n",
       "          docLink.innerHTML = docLinkHtml;\n",
       "          element.appendChild(docLink);\n",
       "        }\n",
       "      </script>\n",
       "    </div>\n",
       "  </div>\n",
       "  "
      ]
     },
     "metadata": {},
     "execution_count": 19
    }
   ]
  }
 ]
}
